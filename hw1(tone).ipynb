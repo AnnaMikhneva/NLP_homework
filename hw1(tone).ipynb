{
 "cells": [
  {
   "cell_type": "code",
   "execution_count": 1,
   "id": "95ff6aad-7855-44d1-a0d7-941d8b243ac4",
   "metadata": {},
   "outputs": [
    {
     "name": "stderr",
     "output_type": "stream",
     "text": [
      "[nltk_data] Downloading package wordnet to\n",
      "[nltk_data]     /home/anna_mikhneva_/nltk_data...\n",
      "[nltk_data]   Package wordnet is already up-to-date!\n"
     ]
    }
   ],
   "source": [
    "import os\n",
    "from collections import Counter\n",
    "import nltk\n",
    "import pymorphy2\n",
    "morph = pymorphy2.MorphAnalyzer()\n",
    "nltk.download('wordnet')\n",
    "from nltk.stem import WordNetLemmatizer\n",
    "lemmatizer = WordNetLemmatizer()\n",
    "from pymystem3 import Mystem\n",
    "m = Mystem()\n",
    "from gensim import utils"
   ]
  },
  {
   "cell_type": "code",
   "execution_count": 18,
   "id": "83699062-8b76-49ba-8b36-2ef020e5eef6",
   "metadata": {
    "tags": []
   },
   "outputs": [],
   "source": [
    "negative = []\n",
    "for filename in os.listdir('neg_test'):\n",
    "    f = os.path.join('neg_test', filename)\n",
    "    if os.path.isfile(f) and filename.endswith('.txt'):\n",
    "        with open(f, 'r') as file:\n",
    "            for text in file:\n",
    "                for word in nltk.word_tokenize(text):\n",
    "                    if word.isalpha() and word[0].isupper() == False:\n",
    "                        finword = morph.parse(word)[0]\n",
    "                        negative.append(finword[0])\n",
    "# print(negative)"
   ]
  },
  {
   "cell_type": "code",
   "execution_count": 19,
   "id": "62f5cf7c-000a-4d1c-9ea4-2398f6951c22",
   "metadata": {
    "tags": []
   },
   "outputs": [],
   "source": [
    "positive = []\n",
    "for filename in os.listdir('pos_test'):\n",
    "    f = os.path.join('pos_test', filename)\n",
    "    if os.path.isfile(f) and filename.endswith('.txt'):\n",
    "        with open(f, 'r') as file:\n",
    "            for text in file:\n",
    "                for word in nltk.word_tokenize(text):\n",
    "                    if word.isalpha()  and word[0].isupper() == False:\n",
    "                        finword = morph.parse(word)[0]\n",
    "                        positive.append(finword[0])\n",
    "# print(positive)"
   ]
  },
  {
   "cell_type": "code",
   "execution_count": 20,
   "id": "1e48a02b-9fe0-4790-8146-bd838b01dd31",
   "metadata": {
    "tags": []
   },
   "outputs": [],
   "source": [
    "freqlist = Counter()\n",
    "for word in positive:\n",
    "    freqlist[word] += 1\n",
    "# print(freqlist)"
   ]
  },
  {
   "cell_type": "code",
   "execution_count": 21,
   "id": "13760150-0fd5-4cba-877a-dc552850acfe",
   "metadata": {
    "tags": []
   },
   "outputs": [],
   "source": [
    "freqlist_2 = Counter()\n",
    "for word in negative:\n",
    "    freqlist_2[word] += 1\n",
    "# print(freqlist_2)"
   ]
  },
  {
   "cell_type": "code",
   "execution_count": 22,
   "id": "bf5c9d45-05ae-4208-b2a8-4a4da6ce4458",
   "metadata": {
    "tags": []
   },
   "outputs": [],
   "source": [
    "freq_pos = {}\n",
    "freq_neg = {}\n",
    "for key, value in freqlist.items():\n",
    "    if key not in freqlist_2.keys() and value != 1: #убрала те, которые встретились по одному разу\n",
    "        freq_pos[key] = value\n",
    "freq_pos = sorted(freq_pos.items(), key=lambda item: item[1], reverse=True)\n",
    "# print(dict(freq_pos))\n",
    "for key, value in freqlist_2.items():\n",
    "    if key not in freqlist.keys() and value != 1:\n",
    "        freq_neg.update({key: value})\n",
    "freq_neg = sorted(freq_neg.items(), key=lambda item: item[1], reverse=True)\n",
    "# print(dict(freq_neg))"
   ]
  },
  {
   "cell_type": "code",
   "execution_count": 23,
   "id": "cff9696d-c4bf-4ab2-b3ed-83789afed47b",
   "metadata": {
    "collapsed": true,
    "jupyter": {
     "outputs_hidden": true
    },
    "tags": []
   },
   "outputs": [
    {
     "name": "stdout",
     "output_type": "stream",
     "text": [
      "{'pos': {'wonderful': 32, 'priest': 32, 'lion': 15, 'strength': 12, 'masterpiece': 12, 'singing': 12, 'subtle': 11, 'vampires': 11, 'lesbian': 10, 'desires': 10, 'superb': 10, 'erotic': 9, 'outstanding': 9, 'vampirism': 9, 'details': 8, 'portrayed': 8, 'trilogy': 8, 'training': 8, 'families': 8, 'lust': 8, 'tragedy': 8, 'raid': 8, 'era': 8, 'boarding': 8, 'hockey': 8, 'freedom': 7, 'marriages': 7, 'reminds': 7, 'magnificent': 7, 'wonderfully': 7, 'cranes': 7, 'community': 7, 'circus': 7, 'moved': 6, 'finest': 6, 'marvelous': 6, 'dynamic': 6, 'husbands': 6, 'survive': 6, 'greatest': 6, 'technique': 6, 'genres': 5, 'taboo': 5, 'gender': 5, 'ordinary': 5, 'household': 5, 'ladies': 5, 'existence': 5, 'wives': 5, 'sacrifice': 5, 'responsibility': 5, 'ages': 5, 'wicked': 5, 'remains': 5, 'extraordinary': 5, 'cage': 5, 'tricks': 5, 'birth': 5, 'ensemble': 5, 'latter': 5, 'remarkable': 5, 'helping': 5, 'worthy': 5, 'animated': 5, 'skeletons': 5, 'movement': 5, 'backstage': 5, 'alcohol': 5, 'jersey': 5, 'crying': 4, 'carries': 4, 'bitter': 4, 'jaded': 4, 'amongst': 4, 'cultural': 4, 'satire': 4, 'talents': 4, 'mythology': 4, 'religion': 4, 'bold': 4, 'interaction': 4, 'cry': 4, 'trust': 4, 'perspective': 4, 'outlet': 4, 'courage': 4, 'mindset': 4, 'regarding': 4, 'proud': 4, 'tribute': 4, 'impact': 4, 'intensely': 4, 'field': 4, 'brilliance': 4, 'stroke': 4, 'pleasantly': 4, 'symbol': 4, 'keeping': 4, 'medical': 4, 'colors': 4, 'honestly': 4, 'closer': 4, 'shoes': 4, 'theaters': 4, 'concept': 4, 'viewed': 4, 'circumstances': 4, 'ta': 4, 'volunteers': 4, 'pun': 4, 'recognized': 4, 'color': 4, 'revolves': 4, 'musician': 4, 'stairs': 4, 'cameraman': 4, 'opened': 4, 'tanks': 4, 'sky': 4, 'wounded': 4, 'bittersweet': 4, 'deals': 4, 'upstate': 4, 'boardinghouse': 4, 'colorful': 4, 'narrator': 3, 'nuanced': 3, 'mesmerizing': 3, 'individuals': 3, 'environment': 3, 'perfection': 3, 'ocean': 3, 'weakness': 3, 'conservative': 3, 'options': 3, 'dutiful': 3, 'matriarch': 3, 'celibacy': 3, 'wonders': 3, 'choose': 3, 'traditions': 3, 'groundbreaking': 3, 'plight': 3, 'miss': 3, 'surrounded': 3, 'dealt': 3, 'regard': 3, 'installment': 3, 'brilliantly': 3, 'acceptance': 3, 'angle': 3, 'torrid': 3, 'deserved': 3, 'viewings': 3, 'heat': 3, 'confronts': 3, 'loveless': 3, 'concerning': 3, 'forcing': 3, 'trailers': 3, 'fears': 3, 'embark': 3, 'linked': 3, 'affection': 3, 'challenging': 3, 'closed': 3, 'meets': 3, 'express': 3, 'depicting': 3, 'mainstream': 3, 'touched': 3, 'wide': 3, 'notably': 3, 'respective': 3, 'fulfillment': 3, 'search': 3, 'subtext': 3, 'political': 3, 'preachy': 3, 'privileged': 3, 'vampiric': 3, 'physical': 3, 'strings': 3, 'experiment': 3, 'rules': 3, 'humans': 3, 'vibrant': 3, 'leap': 3, 'flawless': 3, 'fangs': 3, 'differences': 3, 'thirst': 3, 'crisis': 3, 'develop': 3, 'screening': 3, 'transition': 3, 'phase': 3, 'transformation': 3, 'delightfully': 3, 'birds': 3, 'battle': 3, 'delicious': 3, 'sympathy': 3, 'chances': 3, 'ordered': 3, 'regards': 3, 'focuses': 3, 'lifestyle': 3, 'lively': 3, 'unforgettable': 3, 'floor': 3, 'existential': 3, 'scope': 3, 'round': 3, 'unlikely': 3, 'grew': 3, 'foil': 3, 'heartbreaking': 3, 'blah': 3, 'grim': 3, 'evokes': 3, 'madness': 3, 'accompanied': 3, 'tends': 3, 'mere': 3, 'array': 3, 'murderers': 3, 'comedienne': 3, 'bedroom': 3, 'frequently': 3, 'orchestra': 3, 'mouse': 3, 'haunting': 3, 'cried': 3, 'quietly': 3, 'zhuravli': 3, 'bus': 3, 'fence': 3, 'affected': 3, 'fiancé': 3, 'bombing': 3, 'adopted': 3, 'angles': 3, 'devoid': 3, 'joins': 3, 'sheer': 3, 'pianist': 3, 'joyous': 3, 'nominations': 3, 'footlights': 3, 'law': 3, 'affects': 3, 'valet': 3, 'cum': 3, 'grabs': 3, 'blues': 3, 'misfits': 3, 'neighborhood': 3, 'integration': 3, 'nostalgic': 3, 'month': 3, 'applause': 3, 'helicopter': 3, 'vessel': 3, 'reluctant': 2, 'commentators': 2, 'recognizable': 2, 'pleased': 2, 'lifetime': 2, 'annoy': 2, 'literature': 2, 'novels': 2, 'applauded': 2, 'literate': 2, 'climate': 2, 'article': 2, 'provocative': 2, 'begs': 2, 'balance': 2, 'behaviour': 2, 'swami': 2, 'developing': 2, 'secondary': 2, 'skillfully': 2, 'subjects': 2, 'devices': 2, 'achieved': 2, 'cries': 2, 'links': 2, 'offended': 2, 'mores': 2, 'granted': 2, 'factors': 2, 'confined': 2, 'solace': 2, 'crave': 2, 'comfort': 2, 'gently': 2, 'depiction': 2, 'masterful': 2, 'stellar': 2, 'trials': 2, 'dealing': 2, 'intimate': 2, 'elder': 2, 'faithful': 2, 'guru': 2, 'sexless': 2, 'celibate': 2, 'confide': 2, 'deeper': 2, 'openly': 2, 'passionate': 2, 'admire': 2, 'empathy': 2, 'constrained': 2, 'rigid': 2, 'belong': 2, 'spirituality': 2, 'blocked': 2, 'myth': 2, 'rejection': 2, 'receiving': 2, 'mould': 2, 'serve': 2, 'arise': 2, 'origin': 2, 'facing': 2, 'conflicts': 2, 'ferocious': 2, 'opposition': 2, 'discuss': 2, 'conundrum': 2, 'divorce': 2, 'slip': 2, 'throws': 2, 'quibble': 2, 'clichés': 2, 'introduce': 2, 'daring': 2, 'consuming': 2, 'stronger': 2, 'transcends': 2, 'hypocrisy': 2, 'sexism': 2, 'attacked': 2, 'misogyny': 2, 'homosexuality': 2, 'spouses': 2, 'doomed': 2, 'vivacious': 2, 'assumed': 2, 'teach': 2, 'divorced': 2, 'trial': 2, 'bells': 2, 'stunningly': 2, 'status': 2, 'faults': 2, 'seek': 2, 'bisexual': 2, 'ignores': 2, 'presenting': 2, 'glimpse': 2, 'aspire': 2, 'parallel': 2, 'unfaithful': 2, 'reveals': 2, 'ringing': 2, 'bell': 2, 'pantheon': 2, 'alluded': 2, 'richness': 2, 'weaves': 2, 'awareness': 2, 'satisfying': 2, 'rebellion': 2, 'trainer': 2, 'entertained': 2, 'artistry': 2, 'tolerate': 2, 'beneath': 2, 'coincidentally': 2, 'sang': 2, 'stiff': 2, 'invasion': 2, 'volunteer': 2, 'miracle': 2, 'animal': 2, 'radically': 2, 'amazed': 2, 'hip': 2, 'forbidden': 2, 'hail': 2, 'filling': 2, 'portion': 2, 'guarantee': 2, 'proceeded': 2, 'emphasize': 2, 'adjectives': 2, 'uniquely': 2, 'dilemma': 2, 'negatives': 2, 'shone': 2, 'overlong': 2, 'http': 2, 'employee': 2, 'unsung': 2, 'minus': 2, 'anticipated': 2, 'overbearing': 2, 'riveting': 2, 'properly': 2, 'perverse': 2, 'mammals': 2, 'thrill': 2, 'surreal': 2, 'sappy': 2, 'hesitate': 2, 'virus': 2, 'yearning': 2, 'infectious': 2, 'causing': 2, 'sickly': 2, 'priesthood': 2, 'contributed': 2, 'blink': 2, 'supply': 2, 'morally': 2, 'shifts': 2, 'accepts': 2, 'attached': 2, 'salvation': 2, 'closely': 2, 'stylistic': 2, 'expertly': 2, 'beloved': 2, 'repressed': 2, 'experiencing': 2, 'graceful': 2, 'libidinous': 2, 'devout': 2, 'lengthy': 2, 'endeavors': 2, 'unselfishly': 2, 'injury': 2, 'hides': 2, 'beast': 2, 'healer': 2, 'rises': 2, 'displayed': 2, 'heal': 2, 'sucking': 2, 'strokes': 2, 'quirky': 2, 'vulnerability': 2, 'lull': 2, 'slightest': 2, 'curious': 2, 'missed': 2, 'surface': 2, 'craze': 2, 'categorization': 2, 'straddles': 2, 'universally': 2, 'fishing': 2, 'volunteering': 2, 'confronting': 2, 'caricature': 2, 'disagree': 2, 'crafted': 2, 'exquisite': 2, 'fetched': 2, 'subdued': 2, 'imperfect': 2, 'poetic': 2, 'blends': 2, 'commented': 2, 'compliment': 2, 'literal': 2, 'phrase': 2, 'tops': 2, 'borders': 2, 'conviction': 2, 'smooth': 2, 'cough': 2, 'chainsaw': 2, 'generate': 2, 'tykes': 2, 'angelic': 2, 'wholly': 2, 'chillingly': 2, 'gag': 2, 'lil': 2, 'sharing': 2, 'suburb': 2, 'elevates': 2, 'scored': 2, 'captured': 2, 'moon': 2, 'hilariously': 2, 'justify': 2, 'heartless': 2, 'refer': 2, 'committed': 2, 'hired': 2, 'regret': 2, 'gesture': 2, 'censors': 2, 'animators': 2, 'band': 2, 'buff': 2, 'blow': 2, 'studio': 2, 'whimsical': 2, 'remembered': 2, 'popularity': 2, 'inspire': 2, 'hesitation': 2, 'determination': 2, 'await': 2, 'magnificently': 2, 'goodbye': 2, 'curtains': 2, 'flashes': 2, 'shape': 2, 'breathed': 2, 'referred': 2, 'montage': 2, 'humanistic': 2, 'contemporary': 2, 'millions': 2, 'peers': 2, 'searches': 2, 'recruits': 2, 'racked': 2, 'extras': 2, 'crossing': 2, 'apartment': 2, 'restored': 2, 'meanwhile': 2, 'horrors': 2, 'throat': 2, 'strangled': 2, 'staircase': 2, 'separated': 2, 'hurricane': 2, 'wars': 2, 'declared': 2, 'remained': 2, 'journey': 2, 'immediacy': 2, 'brimming': 2, 'wit': 2, 'realism': 2, 'unfold': 2, 'highest': 2, 'departure': 2, 'according': 2, 'exemption': 2, 'charms': 2, 'flowers': 2, 'invade': 2, 'helpless': 2, 'lightness': 2, 'factory': 2, 'mail': 2, 'abstracting': 2, 'raids': 2, 'decadence': 2, 'spaces': 2, 'sorrow': 2, 'piano': 2, 'aftermath': 2, 'warfare': 2, 'audacious': 2, 'capturing': 2, 'sons': 2, 'procession': 2, 'streets': 2, 'stylish': 2, 'firmly': 2, 'concert': 2, 'notable': 2, 'devastated': 2, 'dismissed': 2, 'recite': 2, 'talked': 2, 'decline': 2, 'distant': 2, 'cruelties': 2, 'analysis': 2, 'notices': 2, 'fortunes': 2, 'dependent': 2, 'touring': 2, 'bullying': 2, 'regularly': 2, 'concentrates': 2, 'camp': 2, 'loving': 2, 'sir': 2, 'sadness': 2, 'feedback': 2, 'manager': 2, 'employer': 2, 'hugely': 2, 'author': 2, 'inhabitants': 2, 'desegregation': 2, 'dignity': 2, 'jazz': 2, 'conversation': 2, 'clubs': 2, 'compassion': 2, 'shines': 2, 'racial': 2, 'featuring': 2, 'featurette': 2, 'understated': 2, 'lovable': 2, 'accurate': 2, 'tight': 2, 'g': 2, 'smell': 2, 'characterizations': 2, 'segregation': 2, 'lovingly': 2, 'addresses': 2, 'appreciation': 2, 'fortunate': 2, 'glued': 2, 'goody': 2, 'logical': 2, 'performs': 2, 'sometime': 2, 'inebriate': 2, 'shorts': 2, 'fictional': 2, 'trapeze': 2, 'hula': 2, 'savage': 2, 'bars': 2, 'broom': 2, 'wood': 2, 'bounce': 2, 'defect': 2, 'preventable': 2, 'rates': 2, 'sweater': 2, 'sports': 2}, 'neg': {'wine': 23, 'cheap': 21, 'island': 18, 'waste': 17, 'car': 14, 'hotel': 13, 'wines': 9, 'pregnant': 9, 'badly': 8, 'red': 8, 'cover': 8, 'rubbish': 8, 'poorly': 8, 'desert': 8, 'riddles': 7, 'college': 7, 'sit': 7, 'torture': 7, 'bits': 7, 'check': 7, 'girlfriend': 7, 'villain': 7, 'cop': 7, 'impossible': 7, 'voodoo': 7, 'pay': 7, 'laughs': 7, 'nurse': 7, 'resort': 7, 'likely': 6, 'thats': 6, 'rented': 6, 'disappointing': 6, 'drunk': 6, 'wooden': 6, 'cant': 6, 'redeeming': 6, 'fake': 6, 'spent': 6, 'porn': 6, 'witch': 6, 'wineries': 6, 'cult': 6, 'possession': 6, 'muddled': 5, 'present': 5, 'bland': 5, 'toward': 5, 'blue': 5, 'hated': 5, 'sing': 5, 'deaths': 5, 'mansion': 5, 'villa': 5, 'wild': 5, 'sitting': 5, 'shut': 5, 'sidekick': 5, 'whilst': 5, 'trash': 5, 'raped': 5, 'titles': 5, 'elsewhere': 5, 'lies': 5, 'homework': 5, 'swamp': 5, 'lame': 5, 'door': 5, 'possibly': 5, 'screaming': 5, 'property': 5, 'witches': 5, 'architect': 5, 'offered': 4, 'fool': 4, 'hoping': 4, 'wasting': 4, 'game': 4, 'sucks': 4, 'pretentious': 4, 'forgot': 4, 'letting': 4, 'builds': 4, 'chore': 4, 'assistant': 4, 'horribly': 4, 'sexy': 4, 'morning': 4, 'ghost': 4, 'martial': 4, 'nonsense': 4, 'plots': 4, 'market': 4, 'crooked': 4, 'painfully': 4, 'anymore': 4, 'separate': 4, 'garbage': 4, 'suspension': 4, 'goal': 4, 'judging': 4, 'confused': 4, 'joke': 4, 'splatter': 4, 'fetish': 4, 'shoot': 4, 'months': 4, 'system': 4, 'advise': 4, 'revenge': 4, 'sounded': 4, 'goofy': 4, 'unclear': 4, 'babies': 4, 'pass': 4, 'industry': 4, 'interviews': 4, 'dollars': 4, 'contain': 4, 'agent': 4, 'damn': 4, 'gun': 4, 'teens': 4, 'laid': 4, 'mausoleum': 4, 'coffin': 4, 'homage': 4, 'atrocious': 4, 'ghosts': 3, 'lawyer': 3, 'drown': 3, 'crime': 3, 'instance': 3, 'solve': 3, 'riddle': 3, 'blonde': 3, 'scratch': 3, 'supernatural': 3, 'enter': 3, 'cheaply': 3, 'insane': 3, 'methods': 3, 'flat': 3, 'drags': 3, 'praised': 3, 'blown': 3, 'unhappy': 3, 'summer': 3, 'hitting': 3, 'vehicle': 3, 'projects': 3, 'removed': 3, 'horseback': 3, 'unbelievable': 3, 'rude': 3, 'cousins': 3, 'staying': 3, 'string': 3, 'transfer': 3, 'below': 3, 'attic': 3, 'séance': 3, 'dire': 3, 'flair': 3, 'operation': 3, 'load': 3, 'simplistic': 3, 'stilted': 3, 'clichéd': 3, 'animals': 3, 'spends': 3, 'monkey': 3, 'wreck': 3, 'race': 3, 'hearing': 3, 'six': 3, 'intelligence': 3, 'overrated': 3, 'described': 3, 'pen': 3, 'murdering': 3, 'published': 3, 'resemble': 3, 'chief': 3, 'press': 3, 'insurance': 3, 'robot': 3, 'adoption': 3, 'porno': 3, 'eating': 3, 'worry': 3, 'nearby': 3, 'failing': 3, 'keira': 3, 'handle': 3, 'cringe': 3, 'poet': 3, 'charges': 3, 'board': 3, 'lingering': 3, 'casual': 3, 'overly': 3, 'meaningless': 3, 'embarrassing': 3, 'dry': 3, 'tribe': 3, 'awhile': 3, 'tempted': 3, 'cash': 3, 'button': 3, 'stopped': 3, 'abyss': 3, 'resolution': 3, 'soft': 3, 'enjoyment': 3, 'kicks': 3, 'motive': 3, 'incompetence': 3, 'forgettable': 3, 'smile': 3, 'technical': 3, 'pale': 3, 'hippie': 3, 'floating': 3, 'print': 3, 'scared': 3, 'transitions': 3, 'profoundly': 3, 'shivers': 3, 'goods': 3, 'decapitation': 3, 'brief': 3, 'green': 3, 'mild': 3, 'random': 3, 'driver': 3, 'hey': 3, 'execution': 3, 'sleuth': 3, 'steal': 3, 'unrelated': 3, 'casket': 3, 'commercial': 3, 'tomb': 3, 'visitors': 3, 'fares': 3, 'afraid': 3, 'sadistic': 3, 'sewn': 3, 'virgin': 3, 'estate': 3, 'uncut': 3, 'crucified': 3, 'chimney': 3, 'witchcraft': 3, 'vortex': 3, 'fireplace': 3, 'swordfish': 3, 'stabbed': 3, 'cabin': 3, 'asking': 3, 'handyman': 3, 'hostage': 3, 'dragged': 2, 'stinker': 2, 'peck': 2, 'contained': 2, 'penetrating': 2, 'intrigued': 2, 'subway': 2, 'tunnels': 2, 'weirdo': 2, 'located': 2, 'hangs': 2, 'shop': 2, 'dangerously': 2, 'frustrated': 2, 'introduction': 2, 'cleaning': 2, 'suspend': 2, 'experts': 2, 'device': 2, 'na': 2, 'prominent': 2, 'collage': 2, 'fills': 2, 'btw': 2, 'elementary': 2, 'confess': 2, 'cooking': 2, 'solving': 2, 'metal': 2, 'record': 2, 'store': 2, 'asylum': 2, 'embarrassingly': 2, 'nasties': 2, 'locks': 2, 'inmates': 2, 'dress': 2, 'doll': 2, 'chop': 2, 'axe': 2, 'phone': 2, 'violently': 2, 'restrictions': 2, 'grounds': 2, 'unexciting': 2, 'periods': 2, 'insufferable': 2, 'pressed': 2, 'temporarily': 2, 'lifted': 2, 'malaise': 2, 'sink': 2, 'bulge': 2, 'mutual': 2, 'throwing': 2, 'bitch': 2, 'releasing': 2, 'ineffective': 2, 'contrast': 2, 'sluggish': 2, 'persona': 2, 'pathetic': 2, 'stripping': 2, 'injured': 2, 'museum': 2, 'traitor': 2, 'finished': 2, 'manor': 2, 'rushed': 2, 'attacking': 2, 'lights': 2, 'dubbing': 2, 'paced': 2, 'haunted': 2, 'distributors': 2, 'retitled': 2, 'knife': 2, 'flees': 2, 'prologue': 2, 'aforementioned': 2, 'photos': 2, 'afford': 2, 'choreographer': 2, 'prods': 2, 'reputation': 2, 'western': 2, 'outright': 2, 'nonsensical': 2, 'reel': 2, 'muse': 2, 'prison': 2, 'showdown': 2, 'dodgy': 2, 'lamest': 2, 'oriented': 2, 'muster': 2, 'bombs': 2, 'cops': 2, 'fat': 2, 'philosophy': 2, 'foolish': 2, 'safari': 2, 'travelogue': 2, 'rajah': 2, 'hunter': 2, 'sole': 2, 'mammoths': 2, 'shag': 2, 'wipe': 2, 'destroying': 2, 'jungle': 2, 'exotic': 2, 'chose': 2, 'kissing': 2, 'error': 2, 'vintage': 2, 'filler': 2, 'associate': 2, 'covered': 2, 'statements': 2, 'lose': 2, 'stays': 2, 'spooky': 2, 'rewarded': 2, 'tie': 2, 'dimensional': 2, 'dirty': 2, 'net': 2, 'unconvincing': 2, 'loser': 2, 'unseen': 2, 'fraud': 2, 'stumbles': 2, 'private': 2, 'ratings': 2, 'puerile': 2, 'screams': 2, 'landscape': 2, 'videotaped': 2, 'access': 2, 'throwback': 2, 'rebels': 2, 'sacrificed': 2, 'arc': 2, 'gaze': 2, 'counterpart': 2, 'skinny': 2, 'pop': 2, 'carnality': 2, 'suit': 2, 'vote': 2, 'harder': 2, 'overacts': 2, 'newcomer': 2, 'worthwhile': 2, 'tomorrow': 2, 'nauseating': 2, 'beer': 2, 'hardcore': 2, 'sloppy': 2, 'amateurs': 2, 'bloody': 2, 'fluid': 2, 'crushes': 2, 'liar': 2, 'hellish': 2, 'dye': 2, 'proves': 2, 'served': 2, 'dreary': 2, 'slavery': 2, 'slave': 2, 'accompanies': 2, 'situated': 2, 'river': 2, 'kidnap': 2, 'plantation': 2, 'authority': 2, 'isolated': 2, 'drinks': 2, 'ban': 2, 'distress': 2, 'conversing': 2, 'glimpses': 2, 'philosophical': 2, 'voyeuristic': 2, 'hence': 2, 'selected': 2, 'knightley': 2, 'unfolds': 2, 'unlikable': 2, 'asleep': 2, 'warning': 2, 'teeth': 2, 'timed': 2, 'pause': 2, 'pin': 2, 'curls': 2, 'altar': 2, 'ya': 2, 'thick': 2, 'dreamed': 2, 'biopic': 2, 'confirmed': 2, 'genders': 2, 'childbirth': 2, 'sentiment': 2, 'similarly': 2, 'motif': 2, 'endure': 2, 'embarrassed': 2, 'celebs': 2, 'pretend': 2, 'media': 2, 'reached': 2, 'rotten': 2, 'waning': 2, 'professional': 2, 'credibility': 2, 'idol': 2, 'liars': 2, 'screwball': 2, 'pile': 2, 'laughably': 2, 'shortage': 2, 'despicable': 2, 'dogs': 2, 'wondered': 2, 'grower': 2, 'hundreds': 2, 'expose': 2, 'comparing': 2, 'pushy': 2, 'corrupt': 2, 'mayor': 2, 'agreed': 2, 'naive': 2, 'roughly': 2, 'globalization': 2, 'commercialized': 2, 'terroir': 2, 'fascism': 2, 'unfair': 2, 'featured': 2, 'cab': 2, 'disliked': 2, 'uniqueness': 2, 'shopping': 2, 'attracts': 2, 'quote': 2, 'dedicated': 2, 'encounter': 2, 'psychopaths': 2, 'kidnapped': 2, 'sands': 2, 'sizzle': 2, 'captivity': 2, 'thousand': 2, 'burning': 2, 'wealthy': 2, 'pirates': 2, 'peculiar': 2, 'location': 2, 'noises': 2, 'clue': 2, 'olds': 2, 'unimaginative': 2, 'peek': 2, 'solo': 2, 'whoever': 2, 'broadway': 2, 'fiasco': 2, 'shallow': 2, 'switch': 2, 'beg': 2, 'plan': 2, 'annoyed': 2, 'succession': 2, 'vague': 2, 'makeup': 2, 'courtesy': 2, 'wears': 2, 'hackneyed': 2, 'redeem': 2, 'puddle': 2, 'sat': 2, 'pitiful': 2, 'qualify': 2, 'rely': 2, 'huh': 2, 'unmemorable': 2, 'club': 2, 'ego': 2, 'careers': 2, 'instructor': 2, 'miscast': 2, 'suggests': 2, 'spine': 2, 'breasts': 2, 'intentionally': 2, 'claiming': 2, 'avoided': 2, 'blinded': 2, 'possess': 2, 'unnecessary': 2, 'resurrect': 2, 'designed': 2, 'inept': 2, 'nurses': 2, 'sentenced': 2, 'clips': 2, 'revealing': 2, 'nymphomaniac': 2, 'nutty': 2, 'budgetary': 2, 'unrated': 2, 'unconventional': 2, 'funds': 2, 'funding': 2, 'obscure': 2, 'absurdly': 2, 'cable': 2, 'suspects': 2, 'coast': 2, 'novelist': 2, 'gas': 2, 'disrespectful': 2, 'copies': 2, 'snag': 2, 'upstairs': 2, 'tooth': 2, 'commendable': 2, 'overused': 2, 'screens': 2, 'wreak': 2, 'fog': 2, 'breaking': 2, 'crypt': 2, 'corridors': 2, 'hallways': 2, 'bursts': 2, 'label': 2, 'dollar': 2, 'blockbuster': 2, 'cliches': 2, 'spell': 2, 'witty': 2, 'narcissism': 2, 'ashore': 2, 'guided': 2, 'vessels': 2, 'chants': 2, 'sucked': 2, 'vacation': 2, 'permission': 2, 'decrepit': 2, 'roasted': 2, 'recorder': 2, 'vacant': 2, 'picked': 2, 'lair': 2, 'arrival': 2, 'explaining': 2, 'welcomed': 2, 'unintentional': 2, 'irresponsible': 2, 'bye': 2, 'electrocuted': 2, 'bathtub': 2, 'credentials': 2, 'sprawling': 2, 'machine': 2, 'loudly': 2, 'conversations': 2, 'toggling': 2, 'nut': 2, 'slight': 2, 'hood': 2, 'poverty': 2, 'speed': 2, 'mega': 2}}\n"
     ]
    }
   ],
   "source": [
    "freq_lists = {}\n",
    "freq_lists['pos'] = dict(freq_pos)\n",
    "freq_lists['neg'] = dict(freq_neg)\n",
    "print(freq_lists)"
   ]
  },
  {
   "cell_type": "code",
   "execution_count": 24,
   "id": "c24fa6c0-aaee-4194-a7e6-d937df49e595",
   "metadata": {},
   "outputs": [],
   "source": [
    "def tone_detect(freq_lists, text):\n",
    "    counts = Counter()\n",
    "    for tone, freq_list in freq_lists.items():\n",
    "        freq_list = Counter(freq_list)\n",
    "        for word in nltk.word_tokenize(text):\n",
    "            counts[tone] += int(freq_list[word] > 0)\n",
    "    return counts.most_common()"
   ]
  },
  {
   "cell_type": "code",
   "execution_count": 25,
   "id": "376880fc-9f46-419f-8537-566e8f723717",
   "metadata": {
    "tags": []
   },
   "outputs": [
    {
     "data": {
      "text/plain": [
       "[('pos', 9), ('neg', 2)]"
      ]
     },
     "execution_count": 25,
     "metadata": {},
     "output_type": "execute_result"
    }
   ],
   "source": [
    "file = open('19_10.txt', 'r')\n",
    "test = file.read()\n",
    "tone_detect(freq_lists, test)"
   ]
  },
  {
   "cell_type": "code",
   "execution_count": 26,
   "id": "e84fe82c-f396-43ed-8ac3-8fd2643f0970",
   "metadata": {},
   "outputs": [],
   "source": [
    "from sklearn.metrics import accuracy_score"
   ]
  },
  {
   "cell_type": "code",
   "execution_count": 31,
   "id": "73b62ec1-4424-4f55-93b5-44e8e8e4ed84",
   "metadata": {
    "tags": []
   },
   "outputs": [
    {
     "name": "stdout",
     "output_type": "stream",
     "text": [
      "['neg', 'neg', 'neg', 'neg', 'pos', 'neg', 'pos', 'pos', 'pos', 'pos', 'pos', 'pos', 'pos', 'pos', 'neg']\n",
      "['neg', 'neg', 'neg', 'neg', 'neg', 'neg', 'pos', 'pos', 'pos', 'pos', 'pos', 'pos', 'pos', 'pos', 'pos']\n",
      "Accuracy: 0.8667\n"
     ]
    }
   ],
   "source": [
    "results = []\n",
    "check = []\n",
    "for filename in os.listdir('check'):\n",
    "    f = os.path.join('check', filename)\n",
    "    if os.path.isfile(f) and filename.endswith('.txt'):\n",
    "        with open(f, 'r') as file:\n",
    "            for text in file:\n",
    "                predicted_tone = tone_detect(freq_lists, text)[0][0]\n",
    "                results.append(predicted_tone)\n",
    "                check.append(filename[:3])\n",
    "print(results)\n",
    "print(check)\n",
    "print(\"Accuracy: %.4f\" % accuracy_score(results, check))"
   ]
  },
  {
   "cell_type": "markdown",
   "id": "9efdc663-38ea-4f7f-8e63-3a6af391e63b",
   "metadata": {},
   "source": [
    "### Способ №1 (выполнен)\n",
    "Убрать все имена собственные. Пропали также и первые слова в предложениях, но это можно решить токенизацией по предложением и проверкой на первые слова в предложении. (это я не успела сделать), но функция лучше работает без имен собственных, так как до этого в списке, например, было 37 Veronica и 12 Veronika из какого-то конкретного отзыва, а также ушли фамилии режиссеров."
   ]
  },
  {
   "cell_type": "markdown",
   "id": "d2c31119-ac0b-4e42-aa22-376296d325a1",
   "metadata": {},
   "source": [
    "### Способ №2 \n",
    "Попробовать разбить на биграммы или триграммы. И работать уже с частотным списком n-grams. Возможно, получится отловить конструкции с very или конструкции с not."
   ]
  }
 ],
 "metadata": {
  "kernelspec": {
   "display_name": "Python 3 (ipykernel)",
   "language": "python",
   "name": "python3"
  },
  "language_info": {
   "codemirror_mode": {
    "name": "ipython",
    "version": 3
   },
   "file_extension": ".py",
   "mimetype": "text/x-python",
   "name": "python",
   "nbconvert_exporter": "python",
   "pygments_lexer": "ipython3",
   "version": "3.8.10"
  }
 },
 "nbformat": 4,
 "nbformat_minor": 5
}
